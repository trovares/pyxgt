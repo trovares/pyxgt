{
 "cells": [
  {
   "cell_type": "code",
   "execution_count": 1,
   "id": "ae039755",
   "metadata": {},
   "outputs": [],
   "source": [
    "import neo4j_arrow as na\n",
    "import xgt_arrow as xa\n",
    "import pyarrow as pa\n",
    "import pandas as pd\n",
    "import time"
   ]
  },
  {
   "cell_type": "code",
   "execution_count": 2,
   "id": "51d1c24a",
   "metadata": {},
   "outputs": [
    {
     "data": {
      "text/plain": [
       "<neo4j.Neo4jDriver at 0x7f68d73228d0>"
      ]
     },
     "execution_count": 2,
     "metadata": {},
     "output_type": "execute_result"
    }
   ],
   "source": [
    "import neo4j\n",
    "driver = neo4j.GraphDatabase.driver('neo4j://localhost', auth=('neo4j', 'foo'))\n",
    "driver"
   ]
  },
  {
   "cell_type": "markdown",
   "id": "69136d1b",
   "metadata": {},
   "source": [
    "## Create an index over the `timestamp` attribute"
   ]
  },
  {
   "cell_type": "code",
   "execution_count": 3,
   "id": "b1662302",
   "metadata": {},
   "outputs": [
    {
     "name": "stdout",
     "output_type": "stream",
     "text": [
      "CPU times: user 2.49 ms, sys: 3.03 ms, total: 5.52 ms\n",
      "Wall time: 1.26 s\n"
     ]
    }
   ],
   "source": [
    "%%time\n",
    "with driver.session() as session:\n",
    "    result = session.run(\"\"\"\n",
    "        CREATE INDEX timestamp_index IF NOT EXISTS\n",
    "            FOR ()-[r:edge]-()\n",
    "            ON (r.timestamp);\"\"\"\n",
    "    )"
   ]
  },
  {
   "cell_type": "markdown",
   "id": "22a5de14",
   "metadata": {},
   "source": [
    "## Connect to neo4j Arrow Server"
   ]
  },
  {
   "cell_type": "code",
   "execution_count": 4,
   "id": "18286bf7",
   "metadata": {},
   "outputs": [
    {
     "data": {
      "text/plain": [
       "<neo4j_arrow.Neo4jArrow at 0x7f68d366a650>"
      ]
     },
     "execution_count": 4,
     "metadata": {},
     "output_type": "execute_result"
    }
   ],
   "source": [
    "neo4j_client = na.Neo4jArrow(\"neo4j\", \"foo\")\n",
    "neo4j_client"
   ]
  },
  {
   "cell_type": "markdown",
   "id": "f17ea116",
   "metadata": {},
   "source": [
    "## Connect to Trovares xGT Server"
   ]
  },
  {
   "cell_type": "code",
   "execution_count": 5,
   "id": "b68ee29d",
   "metadata": {
    "scrolled": false
   },
   "outputs": [
    {
     "data": {
      "text/plain": [
       "<xgt_arrow.GraphSession at 0x7f68d3675250>"
      ]
     },
     "execution_count": 5,
     "metadata": {},
     "output_type": "execute_result"
    }
   ],
   "source": [
    "xgt_gs=xa.GraphSession(userid=\"demouser\")\n",
    "xgt_gs"
   ]
  },
  {
   "cell_type": "markdown",
   "id": "9c3ccd41",
   "metadata": {},
   "source": [
    "## Define a function that pulls data from neo4j and inserts into xGT"
   ]
  },
  {
   "cell_type": "code",
   "execution_count": 6,
   "id": "5981001b",
   "metadata": {},
   "outputs": [],
   "source": [
    "def copy_data_into_xGT(neo4j_client, xgt_gs):\n",
    "    t0 = time.time()\n",
    "    # prepare to pull data from neo4j\n",
    "    cypher_for_extract = \"\"\"\n",
    "MATCH (a)-[b]->(c)\n",
    "RETURN a.id AS a, c.id AS c, b.timestamp as timestamp;\n",
    "\"\"\"\n",
    "    ticket = neo4j_client.cypher(cypher_for_extract)\n",
    "    ready = neo4j_client.wait_for_job(ticket, timeout=60)\n",
    "    if not ready:\n",
    "        raise Exception('something is wrong...did you submit a job?')\n",
    "    neo4j_reader = neo4j_client.stream(ticket).to_reader()\n",
    "    # create graph schema in Trovares xGT\n",
    "    xgt_writer = xgt_gs.arrow_edge_writer('Edges', neo4j_reader.schema,\n",
    "                                          direction=(\"Node\", \"Node\"),\n",
    "                                          source_key=\"a\", target_key=\"c\")\n",
    "    # move data from neo4j to xGT in chunks\n",
    "    count = 0\n",
    "    while (True):\n",
    "        try:\n",
    "            batch = neo4j_reader.read_next_batch()\n",
    "            xgt_writer.write(batch)\n",
    "            count += 1\n",
    "        except StopIteration:\n",
    "            break\n",
    "    xgt_writer.close()\n",
    "    xfer_time = time.time() - t0\n",
    "    return xfer_time"
   ]
  },
  {
   "cell_type": "markdown",
   "id": "c1fe2421",
   "metadata": {},
   "source": [
    "## 2-hop path counts"
   ]
  },
  {
   "cell_type": "code",
   "execution_count": 7,
   "id": "de6bc735",
   "metadata": {},
   "outputs": [
    {
     "name": "stdout",
     "output_type": "stream",
     "text": [
      "Neo4j> 2-hop answer Count: 64,038,582\n",
      "CPU times: user 10 ms, sys: 6.3 ms, total: 16.3 ms\n",
      "Wall time: 1min 5s\n"
     ]
    }
   ],
   "source": [
    "%%time\n",
    "with driver.session() as session:\n",
    "    result = session.run(\"\"\"\n",
    "        MATCH (a)-[e0]->(b)-[e1]->(c)\n",
    "        WHERE e0.timestamp <> e1.timestamp\n",
    "        RETURN count(*) AS count\"\"\"\n",
    "    )\n",
    "    print(f\"Neo4j> 2-hop answer Count: {result.single()[0]:,}\")"
   ]
  },
  {
   "cell_type": "code",
   "execution_count": 8,
   "id": "6c9fee5e",
   "metadata": {},
   "outputs": [
    {
     "name": "stdout",
     "output_type": "stream",
     "text": [
      "Data transfer time: 3.99\n"
     ]
    }
   ],
   "source": [
    "xfer_time = copy_data_into_xGT(neo4j_client, xgt_gs)\n",
    "print(f\"Data transfer time: {xfer_time:,.2f}\")"
   ]
  },
  {
   "cell_type": "code",
   "execution_count": 9,
   "id": "51ef5263",
   "metadata": {
    "scrolled": true
   },
   "outputs": [
    {
     "name": "stdout",
     "output_type": "stream",
     "text": [
      "xGT> 2-hop answer Count: 64,038,582\n",
      "   Xfer Time: 3.99\n",
      "  Query Time: 0.88\n",
      "  Total time: 4.87\n"
     ]
    }
   ],
   "source": [
    "t0=time.time()\n",
    "xgt_gs.query(\"\"\"\n",
    "    MATCH (a)-[e0]->(b)-[e1]->(c)\n",
    "    WHERE e0.timestamp <> e1.timestamp\n",
    "    RETURN count(*) AS count\"\"\",\n",
    ")\n",
    "result = xgt_gs.get_answers()\n",
    "query_time=time.time()-t0\n",
    "print(f\"xGT> 2-hop answer Count: {result[0][0]:,}\")\n",
    "print(f\"   Xfer Time: {xfer_time:,.2f}\")\n",
    "print(f\"  Query Time: {query_time:,.2f}\")\n",
    "print(f\"  Total time: {xfer_time + query_time:,.2f}\")"
   ]
  },
  {
   "cell_type": "markdown",
   "id": "d21cf3fb",
   "metadata": {},
   "source": [
    "## Temporal Triangles"
   ]
  },
  {
   "cell_type": "code",
   "execution_count": 10,
   "id": "004c0c45",
   "metadata": {},
   "outputs": [
    {
     "name": "stdout",
     "output_type": "stream",
     "text": [
      "Neo4j> Temporal Triangles answer Count: 2\n",
      "CPU times: user 18.1 ms, sys: 12.7 ms, total: 30.9 ms\n",
      "Wall time: 1min 37s\n"
     ]
    }
   ],
   "source": [
    "%%time\n",
    "with driver.session() as session:\n",
    "    result = session.run(\"\"\"\n",
    "        MATCH (a)-[e0]->(b)-[e1]->(c)-[e2]->(a)\n",
    "        WHERE a <> b AND b <> c AND a <> c\n",
    "          AND e0.timestamp <= e1.timestamp\n",
    "          AND e1.timestamp <= e2.timestamp\n",
    "          AND e2.timestamp - e0.timestamp < $threshold\n",
    "        RETURN count(*) as count\"\"\",\n",
    "        {\"threshold\": 42},\n",
    "    )\n",
    "    print(f\"Neo4j> Temporal Triangles answer Count: {result.single()[0]:,}\")"
   ]
  },
  {
   "cell_type": "code",
   "execution_count": 11,
   "id": "c7777f0f",
   "metadata": {},
   "outputs": [
    {
     "name": "stdout",
     "output_type": "stream",
     "text": [
      "xGT> Temporal Triangles answer Count: 2\n",
      "   Xfer Time: 3.99\n",
      "  Query Time: 1.44\n",
      "  Total time: 5.43\n"
     ]
    }
   ],
   "source": [
    "t0=time.time()\n",
    "xgt_gs.query(\"\"\"\n",
    "    MATCH (a)-[e0]->(b)-[e1]->(c)-[e2]->(a)\n",
    "    WHERE a <> b AND b <> c AND a <> c\n",
    "      AND e0.timestamp <= e1.timestamp\n",
    "      AND e1.timestamp <= e2.timestamp\n",
    "      AND e2.timestamp - e0.timestamp < $threshold\n",
    "    RETURN count(*) as count\"\"\",\n",
    "    params = {\"threshold\": 42},\n",
    ")\n",
    "result = xgt_gs.get_answers()\n",
    "query_time=time.time()-t0\n",
    "print(f\"xGT> Temporal Triangles answer Count: {result[0][0]:,}\")\n",
    "print(f\"   Xfer Time: {xfer_time:,.2f}\")\n",
    "print(f\"  Query Time: {query_time:,.2f}\")\n",
    "print(f\"  Total time: {xfer_time + query_time:,.2f}\")"
   ]
  },
  {
   "cell_type": "code",
   "execution_count": null,
   "id": "9f667826",
   "metadata": {},
   "outputs": [],
   "source": []
  }
 ],
 "metadata": {
  "kernelspec": {
   "display_name": "Python 3 (ipykernel)",
   "language": "python",
   "name": "python3"
  },
  "language_info": {
   "codemirror_mode": {
    "name": "ipython",
    "version": 3
   },
   "file_extension": ".py",
   "mimetype": "text/x-python",
   "name": "python",
   "nbconvert_exporter": "python",
   "pygments_lexer": "ipython3",
   "version": "3.7.10"
  }
 },
 "nbformat": 4,
 "nbformat_minor": 5
}
