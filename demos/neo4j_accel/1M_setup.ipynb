{
 "cells": [
  {
   "cell_type": "markdown",
   "id": "0d7b75b6",
   "metadata": {},
   "source": [
    "## Establish the configuration for the demo\n",
    "\n",
    "The demo is set up to run inside the directory:  ${HOME}/1M_accelerator"
   ]
  },
  {
   "cell_type": "code",
   "execution_count": 1,
   "id": "ae039755",
   "metadata": {},
   "outputs": [
    {
     "name": "stdout",
     "output_type": "stream",
     "text": [
      "env: ROOT=/home/ec2-user/1M_accelerator\n"
     ]
    }
   ],
   "source": [
    "import json\n",
    "import os\n",
    "\n",
    "ROOT = os.path.join(os.path.expanduser('~'), '1M_accelerator')\n",
    "%env ROOT=$ROOT\n",
    "\n",
    "NUM_EDGES='1M'\n",
    "NUM_NODES=100000"
   ]
  },
  {
   "cell_type": "code",
   "execution_count": 2,
   "id": "e7ff71ea",
   "metadata": {},
   "outputs": [
    {
     "name": "stdout",
     "output_type": "stream",
     "text": [
      "Defaulting to user installation because normal site-packages is not writeable\n",
      "Requirement already satisfied: neo4j in /home/ec2-user/.local/lib/python3.7/site-packages (4.4.2)\n",
      "Requirement already satisfied: xgt in /home/ec2-user/.local/lib/python3.7/site-packages (1.10.1)\n",
      "Requirement already satisfied: pandas in /home/ec2-user/.local/lib/python3.7/site-packages (1.3.5)\n",
      "Requirement already satisfied: pyarrow in /home/ec2-user/.local/lib/python3.7/site-packages (7.0.0)\n",
      "Requirement already satisfied: pytz in /home/ec2-user/.local/lib/python3.7/site-packages (from neo4j) (2021.3)\n",
      "Requirement already satisfied: protobuf>=3.12.0 in /home/ec2-user/.local/lib/python3.7/site-packages (from xgt) (3.19.4)\n",
      "Requirement already satisfied: grpcio>=1.20 in /home/ec2-user/.local/lib/python3.7/site-packages (from xgt) (1.44.0)\n",
      "Requirement already satisfied: python-dateutil>=2.7.3 in /home/ec2-user/.local/lib/python3.7/site-packages (from pandas) (2.8.2)\n",
      "Requirement already satisfied: numpy>=1.17.3 in /home/ec2-user/.local/lib/python3.7/site-packages (from pandas) (1.21.5)\n",
      "Requirement already satisfied: six>=1.5.2 in /home/ec2-user/.local/lib/python3.7/site-packages (from grpcio>=1.20->xgt) (1.16.0)\n"
     ]
    }
   ],
   "source": [
    "!python3 -m pip install -U neo4j xgt pandas pyarrow"
   ]
  },
  {
   "cell_type": "markdown",
   "id": "f17ea116",
   "metadata": {},
   "source": [
    "## Setup the neo4j file structure"
   ]
  },
  {
   "cell_type": "code",
   "execution_count": 3,
   "id": "92972a47",
   "metadata": {
    "scrolled": false
   },
   "outputs": [
    {
     "name": "stdout",
     "output_type": "stream",
     "text": [
      "/home/ec2-user/1M_accelerator\n"
     ]
    }
   ],
   "source": [
    "%rm -rf $ROOT/*\n",
    "%mkdir -p $ROOT/neo4j\n",
    "%cd -q $ROOT/neo4j\n",
    "%mkdir -p data logs conf import plugins\n",
    "%cd $ROOT"
   ]
  },
  {
   "cell_type": "code",
   "execution_count": 4,
   "id": "9c13c656",
   "metadata": {},
   "outputs": [
    {
     "name": "stdout",
     "output_type": "stream",
     "text": [
      "/home/ec2-user/1M_accelerator\n"
     ]
    }
   ],
   "source": [
    "# Download plugins\n",
    "%cd -q $ROOT/neo4j/plugins\n",
    "!wget --quiet https://github.com/neo4j-field/neo4j-arrow/releases/download/v4.1/neo4j-arrow-4.1-all.jar\n",
    "#  !wget --quiet -O graph-data-science.jar https://s3-eu-west-1.amazonaws.com/com.neo4j.graphalgorithms.dist/graph-data-science/neo4j-graph-data-science-2.0.0.jar\n",
    "%cd $ROOT"
   ]
  },
  {
   "cell_type": "markdown",
   "id": "6104aa5b",
   "metadata": {},
   "source": [
    "## Setup the xgt file structure"
   ]
  },
  {
   "cell_type": "code",
   "execution_count": 5,
   "id": "aa141582",
   "metadata": {},
   "outputs": [],
   "source": [
    "%mkdir -p $ROOT/xgt/data $ROOT/xgt/logs"
   ]
  },
  {
   "cell_type": "markdown",
   "id": "7827ef49",
   "metadata": {},
   "source": [
    "## Create the docker-compose.yml config file"
   ]
  },
  {
   "cell_type": "code",
   "execution_count": 6,
   "id": "59704375",
   "metadata": {},
   "outputs": [],
   "source": [
    "with open(f\"{ROOT}/docker-compose.yml\", \"w\") as config:\n",
    "    config.write(f\"\"\"# neo4j accelerator config\n",
    "version: '3'\n",
    "services:\n",
    "  neo4j:\n",
    "    image: neo4j:4.4.4\n",
    "    # restart: unless-stopped\n",
    "    user: \"{os.getuid()}:{os.getgid()}\"\n",
    "    ports:\n",
    "      - 7474:7474\n",
    "      - 7687:7687\n",
    "      - 9999:9999\n",
    "    volumes:\n",
    "      # - {ROOT}/neo4j/conf:/conf\n",
    "      - {ROOT}/neo4j/data:/data\n",
    "      - {ROOT}/neo4j/import:/import \n",
    "      - {ROOT}/neo4j/logs:/logs\n",
    "      - {ROOT}/neo4j/plugins:/plugins\n",
    "    environment:\n",
    "      - NEO4J_AUTH=neo4j/foo\n",
    "      - NEO4JLABS_PLUGINS=[\"graph-data-science\"]\n",
    "      - HOST=0.0.0.0\n",
    "      - NEO4J_dbms_default__listen__address=0.0.0.0\n",
    "      - NEO4J_dbms.security.procedures.unrestricted=gds.*\n",
    "      - NEO4J_dbms.security.procedures.allowlist=gds.*\n",
    "      # Raise memory limits\n",
    "      - NEO4J_dbms_memory_pagecache_size=1G\n",
    "      - NEO4J_dbms.memory.heap.initial_size=8G\n",
    "      - NEO4J_dbms_memory_heap_max__size=8G\n",
    "      # Unset for writing to /plugins\n",
    "      - SECURE_FILE_PERMISSIONS=\n",
    "    # networks: [\"neo4j-accelerator\"]\n",
    "  xgt:\n",
    "    image: trovares/nonroot-xgt\n",
    "    user: \"{os.getuid()}:{os.getgid()}\"\n",
    "    ports:\n",
    "      - 4367:4367\n",
    "    volumes:\n",
    "      - {ROOT}/xgt/logs:/var/log/xgtd\n",
    "      - {ROOT}/xgt/data:/data\n",
    "# networks: {{ neo4j-accelerator {{}} }}\n",
    "#volumes:\n",
    "#  neo4j-accelerator:\n",
    "\"\"\")"
   ]
  },
  {
   "cell_type": "code",
   "execution_count": 7,
   "id": "221d8863",
   "metadata": {
    "scrolled": true
   },
   "outputs": [
    {
     "name": "stdout",
     "output_type": "stream",
     "text": [
      "Total reclaimed space: 0B\r\n"
     ]
    }
   ],
   "source": [
    "!docker system prune -f"
   ]
  },
  {
   "cell_type": "code",
   "execution_count": 8,
   "id": "3261ab4a",
   "metadata": {},
   "outputs": [
    {
     "name": "stdout",
     "output_type": "stream",
     "text": [
      "/home/ec2-user/accelerate_neo4j/demo\n"
     ]
    }
   ],
   "source": [
    "# Return to notebook directory\n",
    "%cd -0\n",
    "\n",
    "# Download neo4j_arrow Python client\n",
    "!wget --quiet --no-clobber https://github.com/neo4j-field/neo4j-arrow/releases/download/v4.1/neo4j_arrow.py"
   ]
  },
  {
   "cell_type": "markdown",
   "id": "4120a2a4",
   "metadata": {},
   "source": [
    "## Create metadata files for neo4j-admin import"
   ]
  },
  {
   "cell_type": "code",
   "execution_count": 9,
   "id": "207fdc7b",
   "metadata": {},
   "outputs": [],
   "source": [
    "with open(f\"{ROOT}/neo4j/import/edge_header\", \"w\") as hdr:\n",
    "    hdr.write(':START_ID,:END_ID,timestamp:int\\n')\n",
    "with open(f\"{ROOT}/neo4j/import/vertex_header\", \"w\") as hdr:\n",
    "    hdr.write('id:ID\\n')\n",
    "with open(f\"{ROOT}/neo4j/import/vertex_data\", \"w\") as hdr:\n",
    "    for n in range(NUM_NODES):\n",
    "        hdr.write(f\"{n}\\n\")"
   ]
  },
  {
   "cell_type": "code",
   "execution_count": 10,
   "id": "ce73260b",
   "metadata": {},
   "outputs": [
    {
     "name": "stdout",
     "output_type": "stream",
     "text": [
      "CPU times: user 3.79 ms, sys: 645 µs, total: 4.44 ms\n",
      "Wall time: 435 ms\n"
     ]
    }
   ],
   "source": [
    "%%time\n",
    "%cd -q $ROOT/neo4j/import\n",
    "os.system(f\"wget --quiet --no-clobber -O tt.csv http://datasets.trovares.com/TT/tt.{NUM_EDGES}\")\n",
    "%cd -q $ROOT/"
   ]
  },
  {
   "cell_type": "markdown",
   "id": "5aa0536e",
   "metadata": {},
   "source": [
    "## Ingest the CSV file into neo4j using fastest ingest method"
   ]
  },
  {
   "cell_type": "code",
   "execution_count": 11,
   "id": "c20b640f",
   "metadata": {},
   "outputs": [
    {
     "name": "stdout",
     "output_type": "stream",
     "text": [
      "Creating network \"1m_accelerator_default\" with the default driver\n",
      "Creating 1m_accelerator_neo4j_run ... \n",
      "\u001b[1Bting 1m_accelerator_neo4j_run ... \u001b[32mdone\u001b[0mFetching versions.json for Plugin 'graph-data-science' from https://s3-eu-west-1.amazonaws.com/com.neo4j.graphalgorithms.dist/graph-data-science/versions.json\n",
      "Installing Plugin 'graph-data-science' from https://s3-eu-west-1.amazonaws.com/com.neo4j.graphalgorithms.dist/graph-data-science/neo4j-graph-data-science-2.0.0.jar to /plugins/graph-data-science.jar \n",
      "Applying default values for plugin graph-data-science to neo4j.conf\n",
      "Selecting JVM - Version:11.0.14.1+1, Name:OpenJDK 64-Bit Server VM, Vendor:Oracle Corporation\n",
      "Neo4j version: 4.4.4\n",
      "Importing the contents of these files into /var/lib/neo4j/data/databases/neo4j:\n",
      "Nodes:\n",
      "  [vertex]:\n",
      "  /import/vertex_header\n",
      "  /import/vertex_data\n",
      "\n",
      "Relationships:\n",
      "  edge:\n",
      "  /import/edge_header\n",
      "  /import/tt.csv\n",
      "\n",
      "\n",
      "Available resources:\n",
      "  Total machine memory: 30.68GiB\n",
      "  Free machine memory: 28.45GiB\n",
      "  Max heap memory : 8.000GiB\n",
      "  Processors: 8\n",
      "  Configured max memory: 20.41GiB\n",
      "  High-IO: true\n",
      "\n",
      "Type normalization:\n",
      "  Property type of 'timestamp' normalized from 'int' --> 'long' in /import/edge_header\n",
      "\n",
      "Import starting 2022-04-01 01:28:23.629+0000\n",
      "  Estimated number of nodes: 100.00 k\n",
      "  Estimated number of node properties: 100.00 k\n",
      "  Estimated number of relationships: 1.00 M\n",
      "  Estimated number of relationship properties: 1.00 M\n",
      "  Estimated disk space usage: 97.96MiB\n",
      "  Estimated required memory usage: 1021MiB\n",
      "\n",
      "(1/4) Node import 2022-04-01 01:28:23.641+0000\n",
      "  Estimated number of nodes: 100.00 k\n",
      "  Estimated disk space usage: 15.93MiB\n",
      "  Estimated required memory usage: 1021MiB\n",
      "-......... .......... .......... .......... ..........   5% ∆132ms\n",
      ".......... .......... .......... .......... ..........  10% ∆5ms\n",
      ".......... .......... .......... .......... ..........  15% ∆2ms\n",
      ".......... .......... .......... .......... ..........  20% ∆2ms\n",
      ".......... .......... .......... .......... ..........  25% ∆3ms\n",
      ".......... .......... .......... .......... ..........  30% ∆1ms\n",
      ".......... .......... .......... .......... ..........  35% ∆1ms\n",
      ".......... .......... .......... .......... ..........  40% ∆1ms\n",
      ".......... .......... .......... .......... ..........  45% ∆1ms\n",
      ".......... .......... .......... .......... ..........  50% ∆3ms\n",
      ".......... .......... .......... .......... ..........  55% ∆4ms\n",
      ".......... .......... .......... .......... ..........  60% ∆1ms\n",
      ".......... .......... .......... .......... ..........  65% ∆1ms\n",
      ".......... .......... .......... .......... ..........  70% ∆0ms\n",
      ".......... .......... .......... .......... ..........  75% ∆1ms\n",
      ".......... .......... .......... .......... ..........  80% ∆0ms\n",
      ".......... .......... .......... .......... ..........  85% ∆1ms\n",
      ".......... .......... .......... .......... ..........  90% ∆1ms\n",
      ".......... .......... .......... .......... ..........  95% ∆0ms\n",
      ".......... .......... .......... .......... .......... 100% ∆1ms\n",
      "\n",
      "Node import COMPLETED in 416ms\n",
      "\n",
      "(2/4) Relationship import 2022-04-01 01:28:24.058+0000\n",
      "  Estimated number of relationships: 1.00 M\n",
      "  Estimated disk space usage: 82.03MiB\n",
      "  Estimated required memory usage: 1.004GiB\n",
      ".......... .......... .......... .......... ..........   5% ∆999ms\n",
      ".......... .......... .......... .......... ..........  10% ∆0ms\n",
      ".......... .......... .......... .......... ..........  15% ∆1ms\n",
      ".......... .......... .......... .......... ..........  20% ∆1ms\n",
      ".......... .......... .......... .......... ..........  25% ∆0ms\n",
      ".......... .......... .......... .......... ..........  30% ∆0ms\n",
      ".......... .......... .......... .......... ..........  35% ∆1ms\n",
      ".......... .......... .......... .......... ..........  40% ∆0ms\n",
      ".......... .......... .......... .......... ..........  45% ∆0ms\n",
      ".......... .......... .......... .......... ..........  50% ∆0ms\n",
      ".......... .......... .......... .......... ..........  55% ∆1ms\n",
      ".......... .......... .......... .......... ..........  60% ∆0ms\n",
      ".......... .......... .......... .......... ..........  65% ∆0ms\n",
      ".......... .......... .......... .......... ..........  70% ∆1ms\n",
      ".......... .......... .......... .......... ..........  75% ∆0ms\n",
      ".......... .......... .......... .......... ..........  80% ∆0ms\n",
      ".......... .......... .......... .......... ..........  85% ∆0ms\n",
      ".......... .......... .......... .......... ..........  90% ∆1ms\n",
      ".......... .......... .......... .......... ..........  95% ∆0ms\n",
      ".......... .......... .......... .......... .......... 100% ∆0ms\n",
      "\n",
      "Relationship import COMPLETED in 1s 5ms\n",
      "\n",
      "(3/4) Relationship linking 2022-04-01 01:28:25.063+0000\n",
      "  Estimated required memory usage: 1021MiB\n",
      "-......... .......... .......... .......... ..........   5% ∆234ms\n",
      ".......... .......... .......... .......... ..........  10% ∆1ms\n",
      ".......... .......... .......... .......... ..........  15% ∆0ms\n",
      ".......... .......... .......... .......... ..........  20% ∆1ms\n",
      ".......... .......... .......... .......... ..........  25% ∆0ms\n",
      ".......... .......... .......... .......... ..........  30% ∆0ms\n",
      ".......... .......... .......... .......... ..........  35% ∆1ms\n",
      ".......... .......... .......... .......... ..........  40% ∆0ms\n",
      ".......... .......... .......... .......... ..........  45% ∆0ms\n",
      ".......... .......... .......... .......... ..........  50% ∆1ms\n",
      ".......... .......... .......... .......... ..........  55% ∆0ms\n",
      ".......... .......... .......... .......... ..........  60% ∆0ms\n",
      ".......... .......... .......... .......... ..........  65% ∆0ms\n",
      ".......... .......... .......... .......... ..........  70% ∆1ms\n",
      ".......... .......... .......... .......... ..........  75% ∆0ms\n",
      ".......... .......... .......... .......... ..........  80% ∆0ms\n",
      ".......... .......... .......... .......... ..........  85% ∆0ms\n",
      ".......... .......... .......... .......... ..........  90% ∆1ms\n",
      ".......... .......... .......... .......... ..........  95% ∆0ms\n",
      ".......... .......... .......... .......... .......... 100% ∆0ms\n",
      "\n",
      "Relationship linking COMPLETED in 837ms\n",
      "\n",
      "(4/4) Post processing 2022-04-01 01:28:25.902+0000\n",
      "  Estimated required memory usage: 1020MiB\n",
      "-......... .......... .......... .......... ..........   5% ∆106ms\n",
      ".......... .......... .......... .......... ..........  10% ∆0ms\n",
      ".......... .......... .......... .......... ..........  15% ∆0ms\n",
      ".......... .......... .......... .......... ..........  20% ∆1ms\n",
      ".......... .......... .......... .......... ..........  25% ∆0ms\n",
      ".......... .......... .......... .......... ..........  30% ∆196ms\n",
      ".......... .......... .......... .......... ..........  35% ∆0ms\n",
      ".......... .......... .......... .......... ..........  40% ∆0ms\n",
      ".......... .......... .......... .......... ..........  45% ∆1ms\n",
      ".......... .......... .......... .......... ..........  50% ∆0ms\n",
      ".......... .......... .......... .......... ..........  55% ∆0ms\n",
      ".......... .......... .......... .......... ..........  60% ∆0ms\n",
      ".......... .......... .......... .......... ..........  65% ∆0ms\n",
      ".......... .......... .......... .......... ..........  70% ∆1ms\n",
      ".......... .......... .......... .......... ..........  75% ∆0ms\n",
      ".......... .......... .......... .......... ..........  80% ∆0ms\n",
      ".......... .......... .......... .......... ..........  85% ∆1ms\n",
      ".......... .......... .......... .......... ..........  90% ∆0ms\n",
      ".......... .......... .......... .......... ..........  95% ∆0ms\n",
      ".......... .......... .......... .......... .......... 100% ∆0ms\n",
      "\n",
      "Post processing COMPLETED in 765ms\n",
      "\n",
      "\n",
      "IMPORT DONE in 3s 412ms. \n",
      "Imported:\n",
      "  100000 nodes\n",
      "  1000000 relationships\n",
      "  1100000 properties\n",
      "Peak memory usage: 1.033GiB\n",
      "CPU times: user 237 ms, sys: 60.6 ms, total: 298 ms\n",
      "Wall time: 12.2 s\n"
     ]
    }
   ],
   "source": [
    "%%time\n",
    "%cd -q $ROOT/\n",
    "!docker-compose run neo4j neo4j-admin import --force --nodes=vertex=/import/vertex_header,/import/vertex_data --trim-strings=true --relationships=edge=/import/edge_header,/import/tt.csv --database=neo4j --id-type=INTEGER"
   ]
  },
  {
   "cell_type": "markdown",
   "id": "26d5d42c",
   "metadata": {},
   "source": [
    "## Restart the Neo4j server"
   ]
  },
  {
   "cell_type": "code",
   "execution_count": 12,
   "id": "a384074d",
   "metadata": {},
   "outputs": [
    {
     "name": "stdout",
     "output_type": "stream",
     "text": [
      "Creating 1m_accelerator_neo4j_1 ... \n",
      "Creating 1m_accelerator_xgt_1   ... \n",
      "\u001b[2Bting 1m_accelerator_neo4j_1 ... \u001b[32mdone\u001b[0m\u001b[2A\u001b[2K"
     ]
    }
   ],
   "source": [
    "%cd -q $ROOT/\n",
    "!docker-compose up -d --remove-orphans"
   ]
  }
 ],
 "metadata": {
  "kernelspec": {
   "display_name": "Python 3 (ipykernel)",
   "language": "python",
   "name": "python3"
  },
  "language_info": {
   "codemirror_mode": {
    "name": "ipython",
    "version": 3
   },
   "file_extension": ".py",
   "mimetype": "text/x-python",
   "name": "python",
   "nbconvert_exporter": "python",
   "pygments_lexer": "ipython3",
   "version": "3.7.10"
  }
 },
 "nbformat": 4,
 "nbformat_minor": 5
}
