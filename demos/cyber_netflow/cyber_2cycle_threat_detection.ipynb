{
 "cells": [
  {
   "cell_type": "markdown",
   "metadata": {},
   "source": [
    "# Analyzing Netflow Data with xGT\n",
    "\n",
    "This sample script loads raw NetFlow data in an xGT graph structure and queries for a graph pattern.\n",
    "\n",
    "The dataset used is from the CTU-13 open source project:\n",
    "https://mcfp.weebly.com/the-ctu-13-dataset-a-labeled-dataset-with-botnet-normal-and-background-traffic.html\n",
    "\n",
    "Raw data example:\n",
    "\n",
    "```\n",
    "StartTime   SrcAddr       DstAddr       State  sTos  dTos  TotPkts  TotBytes\n",
    "2011/08/16  147.32.86.58  77.75.73.9    SR_A   0.0   0.0   3        182\n",
    "2011/08/16  147.32.3.51   147.32.84.46  S_RA   0.0   0.0   4        124\n",
    "```\n",
    "\n",
    "This notebook follows this sequence of steps:\n",
    "\n",
    "1. Setup python environment\n",
    "2. Read the input netflow file\n",
    "3. Create graph schema\n",
    "4. Upload the data to the Trovares xGT server\n",
    "5. Run a query"
   ]
  },
  {
   "cell_type": "markdown",
   "metadata": {},
   "source": [
    "## 1. Setup Python Environment\n",
    "\n",
    "  - Create Trovares xGT setup/connection\n",
    "  - Register with Graphistry"
   ]
  },
  {
   "cell_type": "code",
   "execution_count": 1,
   "metadata": {
    "scrolled": true
   },
   "outputs": [
    {
     "data": {
      "text/plain": [
       "'1.11.1'"
      ]
     },
     "execution_count": 1,
     "metadata": {},
     "output_type": "execute_result"
    }
   ],
   "source": [
    "import numpy as np\n",
    "import pandas as pd\n",
    "import sys\n",
    "import csv\n",
    "import re\n",
    "import os\n",
    "import xgt\n",
    "\n",
    "# For cloud instances, replace the localhost with the instance's IP address or use ssh tunneling\n",
    "server = xgt.Connection(host='localhost', userid='xgtd')\n",
    "server.set_default_namespace('ctu13')\n",
    "xgt.__version__"
   ]
  },
  {
   "cell_type": "code",
   "execution_count": 2,
   "metadata": {},
   "outputs": [
    {
     "name": "stdout",
     "output_type": "stream",
     "text": [
      "········\n"
     ]
    }
   ],
   "source": [
    "import graphistry\n",
    "\n",
    "# To specify Graphistry account & server, use:\n",
    "# graphistry.register(api=3, username='...', password='...', protocol='https', server='hub.graphistry.com')\n",
    "# For more options, see https://github.com/graphistry/pygraphistry#configure\n",
    "import getpass\n",
    "graphistry.register(api=3, username='your_username', password=getpass.getpass(),\n",
    "                    protocol='https', server='hub.graphistry.com')"
   ]
  },
  {
   "cell_type": "markdown",
   "metadata": {},
   "source": [
    "## 2. Read the input netflow file\n",
    "\n",
    "- Read the input netflow file from the file system into the pandas Dataframe.\n",
    "- Do data transformations to align with Trovares xGT"
   ]
  },
  {
   "cell_type": "code",
   "execution_count": 3,
   "metadata": {},
   "outputs": [
    {
     "name": "stdout",
     "output_type": "stream",
     "text": [
      "CPU times: user 1.88 s, sys: 665 ms, total: 2.54 s\n",
      "Wall time: 5.99 s\n"
     ]
    }
   ],
   "source": [
    "%%time\n",
    "def cleanup_data(x):\n",
    "  if x == '':\n",
    "    return pd.NA\n",
    "  elif isinstance(x, str):\n",
    "    return int(x, 16)\n",
    "  return x\n",
    "\n",
    "# Ingest data, translating datetime format to ISO standard.\n",
    "input_filename = \"https://mcfp.felk.cvut.cz/publicDatasets/CTU-Malware-Capture-Botnet-46/detailed-bidirectional-flow-labels/capture20110815-2.binetflow\"\n",
    "from datetime import datetime\n",
    "ctu_date_parser = lambda x: datetime.strptime(x, '%Y/%m/%d %H:%M:%S.%f').strftime(\"%Y-%m-%dT%H:%M:%S.%f\")\n",
    "df = pd.read_csv(input_filename, parse_dates=['StartTime'], date_parser=ctu_date_parser, converters={\"Sport\": cleanup_data, \"Dport\": cleanup_data})"
   ]
  },
  {
   "cell_type": "code",
   "execution_count": 4,
   "metadata": {},
   "outputs": [
    {
     "data": {
      "text/html": [
       "<div>\n",
       "<style scoped>\n",
       "    .dataframe tbody tr th:only-of-type {\n",
       "        vertical-align: middle;\n",
       "    }\n",
       "\n",
       "    .dataframe tbody tr th {\n",
       "        vertical-align: top;\n",
       "    }\n",
       "\n",
       "    .dataframe thead th {\n",
       "        text-align: right;\n",
       "    }\n",
       "</style>\n",
       "<table border=\"1\" class=\"dataframe\">\n",
       "  <thead>\n",
       "    <tr style=\"text-align: right;\">\n",
       "      <th></th>\n",
       "      <th>StartTime</th>\n",
       "      <th>Dur</th>\n",
       "      <th>Proto</th>\n",
       "      <th>SrcAddr</th>\n",
       "      <th>Sport</th>\n",
       "      <th>Dir</th>\n",
       "      <th>DstAddr</th>\n",
       "      <th>Dport</th>\n",
       "      <th>State</th>\n",
       "      <th>sTos</th>\n",
       "      <th>dTos</th>\n",
       "      <th>TotPkts</th>\n",
       "      <th>TotBytes</th>\n",
       "      <th>SrcBytes</th>\n",
       "      <th>Label</th>\n",
       "    </tr>\n",
       "  </thead>\n",
       "  <tbody>\n",
       "    <tr>\n",
       "      <th>28603</th>\n",
       "      <td>2011-08-15 16:48:58.241813</td>\n",
       "      <td>0.000315</td>\n",
       "      <td>udp</td>\n",
       "      <td>147.32.85.34</td>\n",
       "      <td>340305</td>\n",
       "      <td>&lt;-&gt;</td>\n",
       "      <td>147.32.80.9</td>\n",
       "      <td>83</td>\n",
       "      <td>CON</td>\n",
       "      <td>0.0</td>\n",
       "      <td>0.0</td>\n",
       "      <td>2</td>\n",
       "      <td>216</td>\n",
       "      <td>74</td>\n",
       "      <td>flow=To-Background-UDP-CVUT-DNS-Server</td>\n",
       "    </tr>\n",
       "    <tr>\n",
       "      <th>15181</th>\n",
       "      <td>2011-08-15 16:45:58.611542</td>\n",
       "      <td>0.000329</td>\n",
       "      <td>udp</td>\n",
       "      <td>147.32.84.138</td>\n",
       "      <td>221506</td>\n",
       "      <td>&lt;-&gt;</td>\n",
       "      <td>147.32.80.9</td>\n",
       "      <td>83</td>\n",
       "      <td>CON</td>\n",
       "      <td>0.0</td>\n",
       "      <td>0.0</td>\n",
       "      <td>2</td>\n",
       "      <td>214</td>\n",
       "      <td>81</td>\n",
       "      <td>flow=To-Background-UDP-CVUT-DNS-Server</td>\n",
       "    </tr>\n",
       "    <tr>\n",
       "      <th>29789</th>\n",
       "      <td>2011-08-15 16:49:16.613929</td>\n",
       "      <td>0.039372</td>\n",
       "      <td>udp</td>\n",
       "      <td>147.32.84.168</td>\n",
       "      <td>156496</td>\n",
       "      <td>&lt;-&gt;</td>\n",
       "      <td>89.142.137.68</td>\n",
       "      <td>275494</td>\n",
       "      <td>CON</td>\n",
       "      <td>0.0</td>\n",
       "      <td>0.0</td>\n",
       "      <td>2</td>\n",
       "      <td>132</td>\n",
       "      <td>72</td>\n",
       "      <td>flow=Background-UDP-Established</td>\n",
       "    </tr>\n",
       "    <tr>\n",
       "      <th>49895</th>\n",
       "      <td>2011-08-15 16:53:55.110446</td>\n",
       "      <td>15.094414</td>\n",
       "      <td>tcp</td>\n",
       "      <td>41.107.50.167</td>\n",
       "      <td>337545</td>\n",
       "      <td>-&gt;</td>\n",
       "      <td>147.32.86.183</td>\n",
       "      <td>332358</td>\n",
       "      <td>FSPA_FSPA</td>\n",
       "      <td>0.0</td>\n",
       "      <td>0.0</td>\n",
       "      <td>19</td>\n",
       "      <td>1429</td>\n",
       "      <td>804</td>\n",
       "      <td>flow=Background-TCP-Established</td>\n",
       "    </tr>\n",
       "  </tbody>\n",
       "</table>\n",
       "</div>"
      ],
      "text/plain": [
       "                       StartTime        Dur Proto        SrcAddr   Sport  \\\n",
       "28603 2011-08-15 16:48:58.241813   0.000315   udp   147.32.85.34  340305   \n",
       "15181 2011-08-15 16:45:58.611542   0.000329   udp  147.32.84.138  221506   \n",
       "29789 2011-08-15 16:49:16.613929   0.039372   udp  147.32.84.168  156496   \n",
       "49895 2011-08-15 16:53:55.110446  15.094414   tcp  41.107.50.167  337545   \n",
       "\n",
       "         Dir        DstAddr   Dport      State  sTos  dTos  TotPkts  TotBytes  \\\n",
       "28603    <->    147.32.80.9      83        CON   0.0   0.0        2       216   \n",
       "15181    <->    147.32.80.9      83        CON   0.0   0.0        2       214   \n",
       "29789    <->  89.142.137.68  275494        CON   0.0   0.0        2       132   \n",
       "49895     ->  147.32.86.183  332358  FSPA_FSPA   0.0   0.0       19      1429   \n",
       "\n",
       "       SrcBytes                                   Label  \n",
       "28603        74  flow=To-Background-UDP-CVUT-DNS-Server  \n",
       "15181        81  flow=To-Background-UDP-CVUT-DNS-Server  \n",
       "29789        72         flow=Background-UDP-Established  \n",
       "49895       804         flow=Background-TCP-Established  "
      ]
     },
     "execution_count": 4,
     "metadata": {},
     "output_type": "execute_result"
    }
   ],
   "source": [
    "df.sample(4)"
   ]
  },
  {
   "cell_type": "markdown",
   "metadata": {},
   "source": [
    "## 3. Create graph schema"
   ]
  },
  {
   "cell_type": "code",
   "execution_count": 5,
   "metadata": {},
   "outputs": [],
   "source": [
    "# Create a vertex frame on the xGT server.\n",
    "server.drop_frame('Netflow')\n",
    "server.drop_frame('IP')\n",
    "ip = server.create_vertex_frame(\n",
    "    name = 'IP',\n",
    "    schema = [['IPAddr', xgt.TEXT]],\n",
    "    key = 'IPAddr',\n",
    ")"
   ]
  },
  {
   "cell_type": "code",
   "execution_count": 6,
   "metadata": {},
   "outputs": [],
   "source": [
    "# Create a netflow edge frame on the xGT server.\n",
    "server.drop_frame('Netflow')\n",
    "netflow = server.create_edge_frame(\n",
    "    name = 'Netflow',\n",
    "    schema = [\n",
    "        ['StartTime', xgt.DATETIME], ['Dur', xgt.FLOAT], ['Proto', xgt.TEXT], ['SrcAddr', xgt.TEXT],\n",
    "        ['Sport', xgt.INT], ['Dir', xgt.TEXT], ['DstAddr', xgt.TEXT], ['Dport', xgt.INT],\n",
    "        ['State', xgt.TEXT], ['sTos', xgt.FLOAT], ['dTos', xgt.FLOAT],['TotPkts', xgt.INT],\n",
    "        ['TotBytes', xgt.INT], ['SrcBytes', xgt.INT], ['Label', xgt.TEXT],\n",
    "    ],\n",
    "    source = ip,\n",
    "    target = ip,\n",
    "    source_key = 'SrcAddr',\n",
    "    target_key = 'DstAddr', \n",
    ")"
   ]
  },
  {
   "cell_type": "markdown",
   "metadata": {},
   "source": [
    "## 4. Upload the data to the Trovares xGT server\n"
   ]
  },
  {
   "cell_type": "code",
   "execution_count": 7,
   "metadata": {
    "scrolled": true
   },
   "outputs": [
    {
     "name": "stdout",
     "output_type": "stream",
     "text": [
      "IP count: 41,658\n",
      "Netflow record (edges) count: 129,832\n",
      "CPU times: user 78.8 ms, sys: 10.5 ms, total: 89.3 ms\n",
      "Wall time: 189 ms\n"
     ]
    }
   ],
   "source": [
    "%%time\n",
    "# Note that the graph vertices containing IP addresses will be automatically created in the\n",
    "# xGT server for any IP address mentioned as either source or target of a netflow edge.\n",
    "netflow.insert(df)\n",
    "print(f\"IP count: {ip.num_rows:,}\")\n",
    "print(f\"Netflow record (edges) count: {netflow.num_rows:,}\")"
   ]
  },
  {
   "cell_type": "code",
   "execution_count": 8,
   "metadata": {},
   "outputs": [
    {
     "name": "stdout",
     "output_type": "stream",
     "text": [
      "Memory footprint: 0.050 GiB used out of 16.000 GiB available.\n"
     ]
    }
   ],
   "source": [
    "# Show memory footprint\n",
    "max_memory = server.max_user_memory_size\n",
    "print(f\"Memory footprint: {max_memory - server.free_user_memory_size:,.3f} GiB used out of {max_memory:,.3f} GiB available.\")"
   ]
  },
  {
   "cell_type": "markdown",
   "metadata": {},
   "source": [
    "## 5. Run a query\n",
    "\n",
    "Run a `MATCH` query looking for a two-cycle that satisfy a bunch of constraints:\n",
    "\n",
    "- The two edges are ordered by time.\n",
    "- The durations are increasing throughout the path; the second edge has a much larger duration than the first.\n",
    "- The two edges have these *OSI transport layer* protocols:  (tcp, icmp)\n"
   ]
  },
  {
   "cell_type": "code",
   "execution_count": 9,
   "metadata": {},
   "outputs": [
    {
     "name": "stdout",
     "output_type": "stream",
     "text": [
      "Number of results: 38\n",
      "Total number of visited edges: 72,051\n",
      "CPU times: user 8.87 ms, sys: 49.9 ms, total: 58.8 ms\n",
      "Wall time: 64.1 ms\n"
     ]
    }
   ],
   "source": [
    "%%time\n",
    "job = server.run_job(\"\"\"\n",
    "    MATCH (a)-[e1]->(b)-[e2]->(a)\n",
    "    WHERE e1.StartTime <= e2.StartTime\n",
    "      AND e1.Dur < (e2.Dur / 10)  // e2 duration at least 10 times longer than e1\n",
    "      AND e1.Proto = 'tcp'\n",
    "      AND e2.Proto = 'icmp'\n",
    "    RETURN\n",
    "      a.IPAddr AS A, e1.StartTime AS timestamp1, e1.Dur AS dur1,\n",
    "      b.IPAddr AS B, e2.StartTime AS timestamp2, e2.Dur AS dur2\n",
    "\"\"\")\n",
    "\n",
    "result_set = job.get_data_pandas()\n",
    "print(\"Number of results: \" + str(job.total_rows))\n",
    "print(f\"Total number of visited edges: {job.total_visited_edges:,}\")"
   ]
  },
  {
   "cell_type": "code",
   "execution_count": 10,
   "metadata": {
    "scrolled": true
   },
   "outputs": [],
   "source": [
    "# Uncomment to see the actual answers in a pandas frame\n",
    "# result_set"
   ]
  },
  {
   "cell_type": "code",
   "execution_count": 11,
   "metadata": {},
   "outputs": [],
   "source": [
    "## 6. Plot answers with Graphistry\n",
    "g = graphistry.edges(result_set, 'A', 'B')"
   ]
  },
  {
   "cell_type": "code",
   "execution_count": 12,
   "metadata": {
    "scrolled": false
   },
   "outputs": [
    {
     "data": {
      "text/html": [
       "\n",
       "            <iframe id=\"df8efcbc-17dc-4ac7-84e3-4c3ebd689156\" src=\"https://hub.graphistry.com/graph/graph.html?dataset=51142c5953204548b616013837046263&type=arrow&viztoken=a09cefc1-d64e-4ea1-b342-beeb83a8f073&usertag=5e20b704-pygraphistry-0.27.1&splashAfter=1659708326&info=true&dissuadeHubs=True&strongGravity=True\"\n",
       "                    allowfullscreen=\"true\" webkitallowfullscreen=\"true\" mozallowfullscreen=\"true\"\n",
       "                    oallowfullscreen=\"true\" msallowfullscreen=\"true\"\n",
       "                    style=\"width:100%; height:500px; border: 1px solid #DDD; overflow: hidden\"\n",
       "                    \n",
       "            >\n",
       "            </iframe>\n",
       "        \n",
       "            <script>\n",
       "                try {\n",
       "                  $(\"#df8efcbc-17dc-4ac7-84e3-4c3ebd689156\").bind('mousewheel', function(e) { e.preventDefault(); });\n",
       "                } catch (e) { console.error('exn catching scroll', e); }\n",
       "            </script>\n",
       "        "
      ],
      "text/plain": [
       "<IPython.core.display.HTML object>"
      ]
     },
     "execution_count": 12,
     "metadata": {},
     "output_type": "execute_result"
    }
   ],
   "source": [
    "g.settings(url_params={'dissuadeHubs':True, 'strongGravity': True}).plot()"
   ]
  },
  {
   "cell_type": "markdown",
   "metadata": {},
   "source": [
    "<footer>Copyright &copy; 2021-2022 Trovares Inc</footer>"
   ]
  }
 ],
 "metadata": {
  "kernelspec": {
   "display_name": "Python 3 (ipykernel)",
   "language": "python",
   "name": "python3"
  },
  "language_info": {
   "codemirror_mode": {
    "name": "ipython",
    "version": 3
   },
   "file_extension": ".py",
   "mimetype": "text/x-python",
   "name": "python",
   "nbconvert_exporter": "python",
   "pygments_lexer": "ipython3",
   "version": "3.10.5"
  }
 },
 "nbformat": 4,
 "nbformat_minor": 2
}
